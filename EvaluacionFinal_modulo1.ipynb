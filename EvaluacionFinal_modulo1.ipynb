{
 "cells": [
  {
   "cell_type": "markdown",
   "metadata": {},
   "source": [
    "- La clase `TiendaOnline` debe tener los siguientes atributos:\n",
    "\n",
    "        1. `inventario` (lista de diccionarios): Un atributo para almacenar los productos en el inventario. Cada producto debe ser representado como un diccionario con las siguientes claves: `'nombre'`, `'precio'`, y `'cantidad'`. Al principio deberá ser una lista vacía. Ejemplo de como debería ser:\n",
    "\n",
    "           \n",
    "            [{'nombre': 'Camisa', 'precio': 20, 'cantidad': 40},\n",
    "            {'nombre': 'Pantalón', 'precio': 30, 'cantidad': 30}]\n",
    "            \n",
    "\n",
    "        2. `clientes` (diccionario): Un atributo para llevar un registro de los clientes de la tienda. Cada cliente debe ser representado como un diccionario con las siguientes claves: `'nombre'` y `'email'`. Al inicio deberá ser un diccionario vacío. Además, cada cliente debe tener un historial de compras. Deberá parecerse a:\n",
    "\n",
    "            \n",
    "            {'Cliente1': {'email': 'cliente1@email.com', 'compras': []},\n",
    "            'Cliente2': {'email': 'cliente2@email.com', 'compras': []}}\n",
    "           \n",
    "\n",
    "        3. `ventas_totales` (float): Un atributo para llevar un registro de las ventas totales de la tienda. Inicializalo con valor 0. "
   ]
  },
  {
   "cell_type": "code",
   "execution_count": null,
   "metadata": {},
   "outputs": [],
   "source": [
    "class TiendaOnline:\n",
    "    def __init__(self):                     #     como 'inventario' y 'clientes' empiezan con lista/diccionario vacíos \n",
    "        self.inventario = []                #       no los paso como parámetros y los inicializo dentro de la clase.\n",
    "        self.clientes = {}             \n",
    "        self.ventas_totales = 0.0      \n",
    "        \n",
    "    def agregar_producto(self, nombre, precio, cantidad):\n",
    "        producto_existente = False        # voy a verificar si el producto existe\n",
    "        for producto in self.inventario:\n",
    "            if producto['nombre'] == nombre:          \n",
    "                producto[\"cantidad\"] += cantidad     # si el producto ya existe actualizamos la cantidad \n",
    "                                \n",
    "                print(f\"El producto {nombre} ha sido actualizado. Nueva cantidad: {producto[cantidad]}.\")\n",
    "                producto_existente = True        # marca que el producto existe\n",
    "                break                            # rompemos el bucle si encontramos el producto\n",
    "        \n",
    "        if not producto_existente:\n",
    "            nuevo_producto = {'nombre': nombre, 'precio': precio, 'cantidad': cantidad}\n",
    "            self.inventario.append(nuevo_producto)\n",
    "            \n",
    "            print(f\"el producto {nombre} ha sido agregado al inventario.\")       \n",
    "        \n",
    "    def ver_inventario(self):\n",
    "        for producto in self.inventario:\n",
    "            nombre = producto['nombre']\n",
    "            precio = producto['precio']\n",
    "            cantidad = producto['cantidad']\n",
    "       \n",
    "            print(f\"Nombre: {nombre}, Precio: €{precio}, Cantidad: {cantidad}\")\n",
    "            \n",
    "        if not self.inventario:   \n",
    "                    \n",
    "            print(\"El inventario está vacío.\")\n",
    "   "
   ]
  }
 ],
 "metadata": {
  "kernelspec": {
   "display_name": "rosana_conda",
   "language": "python",
   "name": "python3"
  },
  "language_info": {
   "name": "python",
   "version": "3.12.6"
  }
 },
 "nbformat": 4,
 "nbformat_minor": 2
}
