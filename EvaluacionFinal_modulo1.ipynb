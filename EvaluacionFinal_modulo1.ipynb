{
 "cells": [
  {
   "cell_type": "markdown",
   "metadata": {},
   "source": [
    "- La clase `TiendaOnline` debe tener los siguientes atributos:\n",
    "\n",
    "    1. `inventario` (lista de diccionarios): Un atributo para almacenar los productos en el inventario. Cada producto debe ser representado como un diccionario con las siguientes claves: `'nombre'`, `'precio'`, y `'cantidad'`. Al principio deberá ser una lista vacía. Ejemplo de como debería ser:\n",
    "\n",
    "        ```python\n",
    "        [{'nombre': 'Camisa', 'precio': 20, 'cantidad': 40},\n",
    "        {'nombre': 'Pantalón', 'precio': 30, 'cantidad': 30}]\n",
    "        ```\n",
    "            \n",
    "\n",
    "    2. `clientes` (diccionario): Un atributo para llevar un registro de los clientes de la tienda. Cada cliente debe ser representado como un diccionario con las siguientes claves: `'nombre'` y `'email'`. Al inicio deberá ser un diccionario vacío. Además, cada cliente debe tener un historial de compras. Deberá parecerse a:\n",
    "\n",
    "        ```python\n",
    "        {'Cliente1': {'email': 'cliente1@email.com', 'compras': []},\n",
    "        'Cliente2': {'email': 'cliente2@email.com', 'compras': []}}\n",
    "        ```\n",
    "           \n",
    "\n",
    "    3. `ventas_totales` (float): Un atributo para llevar un registro de las ventas totales de la tienda. Inicializalo con valor 0. "
   ]
  },
  {
   "cell_type": "code",
   "execution_count": 15,
   "metadata": {},
   "outputs": [],
   "source": [
    "class TiendaOnline:\n",
    "    \n",
    "    def __init__(self):                    \n",
    "        self.inventario = []                #     como 'inventario' y 'clientes' empiezan con lista/diccionario vacíos \n",
    "        self.clientes = {}                  #       no los paso como parámetros y los inicializo dentro de la clase.\n",
    "        self.ventas_totales = 0.0      \n",
    "        \n",
    "    # 1. Método para agregar un producto al inventario     \n",
    "    def agregar_producto(self, nombre, precio, cantidad):\n",
    "        # voy a verificar si el producto existe:\n",
    "        producto_existente = False                        \n",
    "        for producto in self.inventario:\n",
    "            if producto['nombre'].lower() == nombre.lower():          \n",
    "                # marca que el producto existe:\n",
    "                producto_existente = True        \n",
    "                \n",
    "                print(\"El producto ya se encuentra en nuestro inventario.\")                \n",
    "                break  # rompemos el bucle si encontramos el producto\n",
    "        \n",
    "        if not producto_existente:               \n",
    "            nuevo_producto = {'nombre': nombre.lower(), 'precio': precio, 'cantidad': cantidad}\n",
    "            self.inventario.append(nuevo_producto)\n",
    "            \n",
    "            print(f\"el producto {nombre} ha sido agregado al inventario.\")       \n",
    "\n",
    "\n",
    "        \n",
    "    # 2. Método para ver los productos en el inventario\n",
    "    def ver_inventario(self):\n",
    "        for producto in self.inventario:\n",
    "            nombre = producto['nombre']\n",
    "            precio = producto['precio']\n",
    "            cantidad = producto['cantidad']\n",
    "       \n",
    "            print(f\"Nombre: {nombre}, Precio: €{precio}, Cantidad: {cantidad}\")\n",
    "            \n",
    "        if not self.inventario:           \n",
    "            print(\"El inventario está vacío.\")\n",
    "            \n",
    "\n",
    "            \n",
    "    # 3. Método para buscar un producto en el inventario\n",
    "    def buscar_producto(self, nombre):\n",
    "        for producto in self.inventario:\n",
    "            if producto['nombre'].lower() == nombre.lower():\n",
    "                print(f\"El producto {nombre} ya se encuentra en nuestro inventario.\")\n",
    "                \n",
    "                return # detiene el bucle cuando encuentra el producto        \n",
    "        print(f\"El producto {nombre} no se encuentra en nuestro inventario.\")  \n",
    "        \n",
    "        \n",
    "                 \n",
    "    # 4. Método para actualizar la cantidad de un producto en el inventario\n",
    "    def actualizar_stock(self, nombre, cantidad):        \n",
    "        for producto in self.inventario:\n",
    "            if producto['nombre'].lower() == nombre.lower():\n",
    "                producto['cantidad'] += cantidad\n",
    "                print(f\"La cantidad del producto {nombre} ha sido actualizada. Nueva cantidad: {producto['cantidad']}.\")\n",
    "                return\n",
    "            \n",
    "        print(f\"El producto {nombre} no se encuentra en nuestro inventario.\")\n",
    "        \n",
    "\n",
    "    # 5. Método para eliminar un producto del inventario    \n",
    "    def eliminar_producto(self, nombre):\n",
    "  \n",
    "        for producto in self.inventario:\n",
    "            if producto['nombre'].lower() == nombre.lower():\n",
    "                self.inventario.remove(producto) \n",
    "                 \n",
    "                print(f\"El producto {nombre} ha sido eliminado del inventario.\")\n",
    "                return\n",
    "        \n",
    "        # el artículo no se encuentra en el inventario por eso no le llamamos 'producto'\n",
    "        print(f\"El producto {nombre} no se encuentra en nuestro inventario.\")   \n",
    "        \n",
    "         \n",
    "    # 6. Método para calcular el valor total del inventario\n",
    "    def calcular_valor_inventario(self):\n",
    "        valor_total = 0.0\n",
    "        for producto in self.inventario:\n",
    "            valor_total += producto['precio'] * producto['cantidad']\n",
    "        print(f\"El valor total del inventario es: €{valor_total:.2f}\")\n",
    "            \n",
    "            \n",
    "    # 7. Método para realizar una compra y actualizar el inventario    \n",
    "    def realizar_compra(self, cliente_nombre, cliente_email):\n",
    "        if cliente_nombre not in self.clientes:\n",
    "            # comprobamos si el cliente ya está registrado y, si no lo está, lo agrega al diccionario\n",
    "            self.clientes[cliente_nombre] = {'email': cliente_email, 'compras': []}\n",
    "\n",
    "        carrito = []\n",
    "        total_compra = 0.0\n",
    "\n",
    "        # permitimos que el cliente pueda seguir seleccionando productos hasta que termine o ingrese \"salir\".\n",
    "        while True:\n",
    "            producto_nombre = input(\"Ingresa el nombre del producto que deseas comprar (o 'salir' para finalizar): \")\n",
    "            # evitamos problemas con mayúsculas/minúsculas\n",
    "            if producto_nombre.lower() == 'salir':\n",
    "                break\n",
    "            \n",
    "            for producto in self.inventario:\n",
    "                # iteramos por los productos del inventario\n",
    "                if producto['nombre'].lower() == producto_nombre.lower():\n",
    "                    # si el nombre del producto coincide con el ingresado por el cliente continúa aquí\n",
    "                    try:\n",
    "                        cantidad = int(input(f\"Ingrese la cantidad de {producto_nombre} que desea comprar: \"))\n",
    "                        if cantidad <= producto['cantidad']:\n",
    "                            total = producto['precio'] * cantidad\n",
    "                            total_compra += total\n",
    "                            producto['cantidad'] -= cantidad\n",
    "                            carrito.append({'nombre': producto_nombre, 'precio': producto['precio'], 'cantidad': cantidad})\n",
    "                            print(f\"Has añadido {cantidad} {producto_nombre}(s) a tu carrito. Total parcial: ${total_compra:.2f}\")\n",
    "                        else:\n",
    "                            print(f\"No tenemos suficiente stock de {producto_nombre}. Solo quedan {producto['cantidad']} unidades.\")\n",
    "                    # manejamos errores en caso de que el cliente ingrese valores no válidos         \n",
    "                    except ValueError:\n",
    "                        print(f\"El producto {producto_nombre} está disponible; por favor, ingrese una cantidad válida.\")\n",
    "                    break\n",
    "            else:\n",
    "                print(f\"El producto {producto_nombre} no está disponible.\")\n",
    "        \n",
    "        self.ventas_totales += total_compra\n",
    "        self.clientes[cliente_nombre]['compras'].append(carrito)\n",
    "        print(f\"Total de tu compra: ${total_compra:.2f}\")\n",
    "        print(f\"Gracias por tu compra, {cliente_nombre}!\")    \n",
    "\n",
    "\n",
    "    # 8. Método para procesar el pago        \n",
    "    def procesar_pago(self, total_compra):\n",
    "        try:\n",
    "            pago_cliente = float(input(f\"El total de la compra es €{total_compra:.2f}. Ingrese su pago: \"))\n",
    "            if pago_cliente < total_compra:\n",
    "                print(\"Monto insuficiente para realizar el pago.\")\n",
    "            else:\n",
    "                cambio = pago_cliente - total_compra\n",
    "        \n",
    "                print(f\"Pago realizado con éxito. Su cambio es €{cambio:.2f}\")                \n",
    "        except ValueError:\n",
    "            print(\"Error: Debe ingresar un número válido para el pago.\")\n",
    "            \n",
    "            \n",
    "    # 9. Método para agregar nombre y correo electrónico de nuevos clientes a nuestro registro       \n",
    "    def agregar_cliente(self, nombre, email):\n",
    "        if nombre in self.clientes:\n",
    "            print(f\"El cliente {nombre} ya está registrado.\")\n",
    "        else:\n",
    "            self.clientes[nombre] = {'email': email, 'compras': []}\n",
    "            print(f\"Cliente {nombre} agregado con éxito.\")\n",
    "        \n",
    "    \n",
    "    # 10. Método para ver la lista de clientes registrados con sus nombres y correos electrónicos\n",
    "    def ver_clientes(self):\n",
    "        if not self.clientes:\n",
    "            print(\"No hay clientes registrados.\")\n",
    "        else:\n",
    "            print(\"Lista de clientes:\")\n",
    "            \n",
    "            # Itera sobre el diccionario de clientes usando .items() para obtener nombre y datos\n",
    "            for nombre, datos in self.clientes.items():\n",
    "                print(f\"Nombre: {nombre}, Email: {datos['email']}\")\n",
    "            \n",
    "   "
   ]
  },
  {
   "cell_type": "code",
   "execution_count": 16,
   "metadata": {},
   "outputs": [
    {
     "name": "stdout",
     "output_type": "stream",
     "text": [
      "el producto pantalon ha sido agregado al inventario.\n",
      "el producto zapatos ha sido agregado al inventario.\n",
      "el producto camiseta ha sido agregado al inventario.\n",
      "el producto vestido ha sido agregado al inventario.\n",
      "el producto camisa ha sido agregado al inventario.\n"
     ]
    }
   ],
   "source": [
    "tienda = TiendaOnline()\n",
    "\n",
    "tienda.agregar_producto('pantalon', 30, 30)\n",
    "tienda.agregar_producto('zapatos', 50, 40)\n",
    "tienda.agregar_producto('camiseta', 25, 70)\n",
    "tienda.agregar_producto('vestido', 35, 40)\n",
    "tienda.agregar_producto('camisa', 45, 10)"
   ]
  },
  {
   "cell_type": "code",
   "execution_count": 17,
   "metadata": {},
   "outputs": [
    {
     "name": "stdout",
     "output_type": "stream",
     "text": [
      "El producto ya se encuentra en nuestro inventario.\n"
     ]
    }
   ],
   "source": [
    "tienda.agregar_producto('camiseta', 30, 15)"
   ]
  },
  {
   "cell_type": "code",
   "execution_count": 18,
   "metadata": {},
   "outputs": [
    {
     "name": "stdout",
     "output_type": "stream",
     "text": [
      "Nombre: pantalon, Precio: €30, Cantidad: 30\n",
      "Nombre: zapatos, Precio: €50, Cantidad: 40\n",
      "Nombre: camiseta, Precio: €25, Cantidad: 70\n",
      "Nombre: vestido, Precio: €35, Cantidad: 40\n",
      "Nombre: camisa, Precio: €45, Cantidad: 10\n"
     ]
    }
   ],
   "source": [
    "tienda.ver_inventario()"
   ]
  },
  {
   "cell_type": "code",
   "execution_count": 19,
   "metadata": {},
   "outputs": [
    {
     "name": "stdout",
     "output_type": "stream",
     "text": [
      "El producto vestido ya se encuentra en nuestro inventario.\n"
     ]
    }
   ],
   "source": [
    "tienda.buscar_producto('vestido')"
   ]
  },
  {
   "cell_type": "code",
   "execution_count": 20,
   "metadata": {},
   "outputs": [
    {
     "name": "stdout",
     "output_type": "stream",
     "text": [
      "El producto zapatillas no se encuentra en nuestro inventario.\n"
     ]
    }
   ],
   "source": [
    "tienda.buscar_producto('zapatillas')"
   ]
  },
  {
   "cell_type": "code",
   "execution_count": 21,
   "metadata": {},
   "outputs": [
    {
     "name": "stdout",
     "output_type": "stream",
     "text": [
      "La cantidad del producto pantalon ha sido actualizada. Nueva cantidad: 45.\n"
     ]
    }
   ],
   "source": [
    "tienda.actualizar_stock('pantalon', 15)"
   ]
  },
  {
   "cell_type": "code",
   "execution_count": 22,
   "metadata": {},
   "outputs": [
    {
     "name": "stdout",
     "output_type": "stream",
     "text": [
      "El producto zapatillas no se encuentra en nuestro inventario.\n"
     ]
    }
   ],
   "source": [
    "tienda.actualizar_stock('zapatillas', 12)"
   ]
  },
  {
   "cell_type": "code",
   "execution_count": 23,
   "metadata": {},
   "outputs": [
    {
     "name": "stdout",
     "output_type": "stream",
     "text": [
      "El producto camisa ha sido eliminado del inventario.\n"
     ]
    }
   ],
   "source": [
    "tienda.eliminar_producto('camisa')"
   ]
  },
  {
   "cell_type": "code",
   "execution_count": 24,
   "metadata": {},
   "outputs": [
    {
     "name": "stdout",
     "output_type": "stream",
     "text": [
      "El producto zapatillas no se encuentra en nuestro inventario.\n"
     ]
    }
   ],
   "source": [
    "tienda.eliminar_producto('zapatillas')"
   ]
  },
  {
   "cell_type": "code",
   "execution_count": 25,
   "metadata": {},
   "outputs": [
    {
     "name": "stdout",
     "output_type": "stream",
     "text": [
      "El valor total del inventario es: €6500.00\n"
     ]
    }
   ],
   "source": [
    "tienda.calcular_valor_inventario()"
   ]
  },
  {
   "cell_type": "code",
   "execution_count": 26,
   "metadata": {},
   "outputs": [
    {
     "name": "stdout",
     "output_type": "stream",
     "text": [
      "el producto falda ha sido agregado al inventario.\n"
     ]
    }
   ],
   "source": [
    "tienda.agregar_producto('falda', 20, 1)"
   ]
  },
  {
   "cell_type": "code",
   "execution_count": 34,
   "metadata": {},
   "outputs": [
    {
     "name": "stdout",
     "output_type": "stream",
     "text": [
      "Has añadido 1 pantalon(s) a tu carrito. Total parcial: $30.00\n",
      "Has añadido 2 camiseta(s) a tu carrito. Total parcial: $80.00\n",
      "No tenemos suficiente stock de falda. Solo quedan 1 unidades.\n",
      "El producto zapatillas no está disponible.\n",
      "El producto vestido está disponible; por favor, ingrese una cantidad válida.\n",
      "Total de tu compra: $80.00\n",
      "Gracias por tu compra, cliente1!\n"
     ]
    }
   ],
   "source": [
    "tienda.realizar_compra('cliente1', 'cliente1@email.com')"
   ]
  },
  {
   "cell_type": "code",
   "execution_count": 35,
   "metadata": {},
   "outputs": [
    {
     "name": "stdout",
     "output_type": "stream",
     "text": [
      "Pago realizado con éxito. Su cambio es €20.00\n"
     ]
    }
   ],
   "source": [
    "tienda.procesar_pago(80)"
   ]
  },
  {
   "cell_type": "code",
   "execution_count": 36,
   "metadata": {},
   "outputs": [
    {
     "name": "stdout",
     "output_type": "stream",
     "text": [
      "Monto insuficiente para realizar el pago.\n"
     ]
    }
   ],
   "source": [
    "tienda.procesar_pago(80)"
   ]
  },
  {
   "cell_type": "code",
   "execution_count": 37,
   "metadata": {},
   "outputs": [
    {
     "name": "stdout",
     "output_type": "stream",
     "text": [
      "Error: Debe ingresar un número válido para el pago.\n"
     ]
    }
   ],
   "source": [
    "tienda.procesar_pago(80)"
   ]
  },
  {
   "cell_type": "code",
   "execution_count": 31,
   "metadata": {},
   "outputs": [
    {
     "name": "stdout",
     "output_type": "stream",
     "text": [
      "El cliente cliente1 ya está registrado.\n"
     ]
    }
   ],
   "source": [
    "tienda.agregar_cliente('cliente1', 'cliente1@email.com')"
   ]
  },
  {
   "cell_type": "code",
   "execution_count": 32,
   "metadata": {},
   "outputs": [
    {
     "name": "stdout",
     "output_type": "stream",
     "text": [
      "Cliente cliente2 agregado con éxito.\n"
     ]
    }
   ],
   "source": [
    "tienda.agregar_cliente('cliente2', 'cliente2@email.com')"
   ]
  },
  {
   "cell_type": "code",
   "execution_count": 33,
   "metadata": {},
   "outputs": [
    {
     "name": "stdout",
     "output_type": "stream",
     "text": [
      "Lista de clientes:\n",
      "Nombre: cliente1, Email: cliente1@email.com\n",
      "Nombre: cliente2, Email: cliente2@email.com\n"
     ]
    }
   ],
   "source": [
    "tienda.ver_clientes()"
   ]
  }
 ],
 "metadata": {
  "kernelspec": {
   "display_name": "rosana_conda",
   "language": "python",
   "name": "python3"
  },
  "language_info": {
   "codemirror_mode": {
    "name": "ipython",
    "version": 3
   },
   "file_extension": ".py",
   "mimetype": "text/x-python",
   "name": "python",
   "nbconvert_exporter": "python",
   "pygments_lexer": "ipython3",
   "version": "3.12.6"
  }
 },
 "nbformat": 4,
 "nbformat_minor": 2
}
