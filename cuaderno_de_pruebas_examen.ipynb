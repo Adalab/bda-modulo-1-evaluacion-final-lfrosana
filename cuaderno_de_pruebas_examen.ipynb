{
 "cells": [
  {
   "cell_type": "code",
   "execution_count": 62,
   "metadata": {},
   "outputs": [],
   "source": [
    "class TiendaOnline:\n",
    "    def __init__(self):\n",
    "        self.inventario = []\n",
    "        self.clientes = {}\n",
    "        self.ventas_totales = 0.0\n",
    "    \n",
    "    "
   ]
  },
  {
   "cell_type": "code",
   "execution_count": 63,
   "metadata": {},
   "outputs": [],
   "source": [
    "tienda = TiendaOnline()"
   ]
  },
  {
   "cell_type": "code",
   "execution_count": null,
   "metadata": {},
   "outputs": [],
   "source": [
    "producto = [{'nombre': 'Camisa', 'precio': 20, 'cantidad': 40}]\n",
    "inventario = [] \n",
    "\n",
    "\n",
    "def agregar_producto(nombre, precio, cantidad):\n",
    "        for producto in inventario:\n",
    "            if producto['nombre'] == nombre:        \n",
    "                #producto[\"cantidad\"] += cantidad      # esto corresponde al módulo actualizar_stock\n",
    "                #print(f\"El producto {nombre} ha sido actualizado. Nueva cantidad: {producto[cantidad]}.\")             \n",
    "            if not:\n",
    "                nuevo_producto = {'nombre': nombre, 'precio': precio, 'cantidad': cantidad}\n",
    "                inventario.append(nuevo_producto)\n",
    "                print(f\"el producto {nombre} ha sido agregado al inventario.\")"
   ]
  },
  {
   "cell_type": "code",
   "execution_count": null,
   "metadata": {},
   "outputs": [],
   "source": [
    "agregar_producto('Camisa', 20, 20)"
   ]
  },
  {
   "cell_type": "code",
   "execution_count": null,
   "metadata": {},
   "outputs": [],
   "source": [
    "inventario"
   ]
  },
  {
   "cell_type": "code",
   "execution_count": 5,
   "metadata": {},
   "outputs": [],
   "source": [
    "producto = [{'nombre': 'Camisa', 'precio': 20, 'cantidad': 40}]\n",
    "inventario = [] \n",
    "\n",
    "\n",
    "def agregar_producto(nombre, precio, cantidad):\n",
    "    \n",
    "    producto_existente = False        # voy a verificar si el producto existe\n",
    "    \n",
    "    for producto in inventario:\n",
    "        if producto['nombre'] == nombre:        # si el producto ya existe en nuestro inventario, actualizamos la cantidad   \n",
    "            producto[\"cantidad\"] += cantidad\n",
    "            print(f\"El producto {nombre} ha sido actualizado. Nueva cantidad: {producto[cantidad]}.\")\n",
    "            producto_existente = True        # marca que el producto existe\n",
    "            break                            # rompemos el bucle si encontramos el producto\n",
    "        \n",
    "        if not producto_existente:\n",
    "                nuevo_producto = {'nombre': nombre, 'precio': precio, 'cantidad': cantidad}\n",
    "                inventario.append(nuevo_producto)\n",
    "                print(f\"el producto {nombre} ha sido agregado al inventario.\")"
   ]
  },
  {
   "cell_type": "code",
   "execution_count": 6,
   "metadata": {},
   "outputs": [],
   "source": [
    "agregar_producto('Camisa', 20, 40)"
   ]
  },
  {
   "cell_type": "code",
   "execution_count": 7,
   "metadata": {},
   "outputs": [
    {
     "data": {
      "text/plain": [
       "[]"
      ]
     },
     "execution_count": 7,
     "metadata": {},
     "output_type": "execute_result"
    }
   ],
   "source": [
    "inventario"
   ]
  },
  {
   "cell_type": "code",
   "execution_count": 64,
   "metadata": {},
   "outputs": [],
   "source": [
    "inventario = []\n",
    "\n",
    "def agregar_producto(nombre, precio, cantidad):\n",
    "    \n",
    "    producto_existente = False        \n",
    "    \n",
    "    for producto in inventario:\n",
    "        if producto['nombre'] == nombre:            \n",
    "            producto_existente = True       \n",
    "            producto[\"cantidad\"] += cantidad\n",
    "            \n",
    "            print(f\"El producto {nombre} ha sido actualizado. Nueva cantidad: {producto[cantidad]}.\")            \n",
    "            break                            # rompemos el bucle si encontramos el producto\n",
    "        \n",
    "    if not producto_existente:\n",
    "        nuevo_producto = {'nombre': nombre, 'precio': precio, 'cantidad': cantidad}\n",
    "        inventario.append(nuevo_producto)\n",
    "        print(f\"el producto {nombre} ha sido agregado al inventario.\")"
   ]
  },
  {
   "cell_type": "code",
   "execution_count": 65,
   "metadata": {},
   "outputs": [
    {
     "name": "stdout",
     "output_type": "stream",
     "text": [
      "el producto Camisa ha sido agregado al inventario.\n"
     ]
    }
   ],
   "source": [
    "agregar_producto('Camisa', 20, 40)"
   ]
  },
  {
   "cell_type": "code",
   "execution_count": 66,
   "metadata": {},
   "outputs": [
    {
     "data": {
      "text/plain": [
       "[{'nombre': 'Camisa', 'precio': 20, 'cantidad': 40}]"
      ]
     },
     "execution_count": 66,
     "metadata": {},
     "output_type": "execute_result"
    }
   ],
   "source": [
    "inventario"
   ]
  },
  {
   "cell_type": "code",
   "execution_count": 67,
   "metadata": {},
   "outputs": [],
   "source": [
    "\n",
    "def ver_inventario(inventario):\n",
    "    \n",
    "    for producto in inventario:\n",
    "        nombre = producto['nombre']\n",
    "        precio = producto['precio']\n",
    "        cantidad = producto['cantidad']\n",
    "       \n",
    "        print(f\"Nombre: {nombre}, Precio: €{precio}, Cantidad: {cantidad}\")\n",
    "        "
   ]
  },
  {
   "cell_type": "code",
   "execution_count": 46,
   "metadata": {},
   "outputs": [
    {
     "name": "stdout",
     "output_type": "stream",
     "text": [
      "el producto Pantalón ha sido agregado al inventario.\n",
      "el producto zapatos ha sido agregado al inventario.\n",
      "el producto Camiseta ha sido agregado al inventario.\n",
      "el producto vestidos ha sido agregado al inventario.\n"
     ]
    }
   ],
   "source": [
    "agregar_producto('Pantalón', 30, 30)\n",
    "agregar_producto('zapatos', 50, 40)\n",
    "agregar_producto('Camiseta', 25, 70)\n",
    "agregar_producto('vestidos', 35, 40)"
   ]
  },
  {
   "cell_type": "code",
   "execution_count": 47,
   "metadata": {},
   "outputs": [
    {
     "name": "stdout",
     "output_type": "stream",
     "text": [
      "Nombre: Camisa, Precio: €20, Cantidad: 40\n",
      "Nombre: Pantalón, Precio: €30, Cantidad: 30\n",
      "Nombre: zapatos, Precio: €50, Cantidad: 40\n",
      "Nombre: Camiseta, Precio: €25, Cantidad: 70\n",
      "Nombre: vestidos, Precio: €35, Cantidad: 40\n"
     ]
    }
   ],
   "source": [
    "ver_inventario(inventario)"
   ]
  },
  {
   "cell_type": "code",
   "execution_count": 68,
   "metadata": {},
   "outputs": [],
   "source": [
    "def buscar_producto(nombre):\n",
    "    for producto in inventario:\n",
    "        if producto['nombre'] == nombre:\n",
    "            print(f\"El producto {nombre} ya se encuentra en nuestro inventario.\")\n",
    "            \n",
    "            return # detiene el bucle cuando encuentra el producto\n",
    "        \n",
    "            \n",
    "    print(f\"El producto {nombre} no se encuentra en nuestro inventario.\")\n",
    "            "
   ]
  },
  {
   "cell_type": "code",
   "execution_count": 49,
   "metadata": {},
   "outputs": [
    {
     "name": "stdout",
     "output_type": "stream",
     "text": [
      "El producto Pantalón ya se encuentra en nuestro inventario.\n"
     ]
    }
   ],
   "source": [
    "buscar_producto('Pantalón')"
   ]
  },
  {
   "cell_type": "code",
   "execution_count": 50,
   "metadata": {},
   "outputs": [
    {
     "name": "stdout",
     "output_type": "stream",
     "text": [
      "El producto zapatillas no se encuentra en nuestro inventario.\n"
     ]
    }
   ],
   "source": [
    "buscar_producto('zapatillas')"
   ]
  },
  {
   "cell_type": "code",
   "execution_count": 51,
   "metadata": {},
   "outputs": [],
   "source": [
    "def actualizar_stock(nombre, cantidad):\n",
    "        \n",
    "        for producto in inventario:\n",
    "            if producto['nombre'] == nombre:\n",
    "               \n",
    "                producto['cantidad'] += cantidad\n",
    "                print(f\"La cantidad del producto {nombre} ha sido actualizada. Nueva cantidad: {producto['cantidad']}.\")\n",
    "                return \n",
    "        \n",
    "       \n",
    "        print(f\"El producto {nombre} no se encuentra en nuestro inventario.\")"
   ]
  },
  {
   "cell_type": "code",
   "execution_count": 52,
   "metadata": {},
   "outputs": [
    {
     "name": "stdout",
     "output_type": "stream",
     "text": [
      "La cantidad del producto Camisa ha sido actualizada. Nueva cantidad: 45.\n"
     ]
    }
   ],
   "source": [
    "actualizar_stock(\"Camisa\", 5)"
   ]
  },
  {
   "cell_type": "code",
   "execution_count": 53,
   "metadata": {},
   "outputs": [
    {
     "name": "stdout",
     "output_type": "stream",
     "text": [
      "El producto Zapatillas no se encuentra en nuestro inventario.\n"
     ]
    }
   ],
   "source": [
    "actualizar_stock(\"Zapatillas\", 15)"
   ]
  },
  {
   "cell_type": "code",
   "execution_count": 54,
   "metadata": {},
   "outputs": [],
   "source": [
    "def eliminar_producto(nombre):\n",
    "  \n",
    "    for producto in inventario:\n",
    "        if producto['nombre'] == nombre:\n",
    "            inventario.remove(producto)  \n",
    "            print(f\"El producto {producto['nombre']} ha sido eliminado del inventario.\")\n",
    "            return\n",
    "        \n",
    "    # el producto no se encuentra en el inventario por eso no le llamamos producto\n",
    "    print(f\"El producto {'nombre'} no se encuentra en nuestro inventario.\")"
   ]
  },
  {
   "cell_type": "code",
   "execution_count": 16,
   "metadata": {},
   "outputs": [
    {
     "name": "stdout",
     "output_type": "stream",
     "text": [
      "El producto Camiseta ha sido eliminado del inventario.\n"
     ]
    }
   ],
   "source": [
    "eliminar_producto(\"Camiseta\")"
   ]
  },
  {
   "cell_type": "code",
   "execution_count": 55,
   "metadata": {},
   "outputs": [
    {
     "data": {
      "text/plain": [
       "[{'nombre': 'Camisa', 'precio': 20, 'cantidad': 45},\n",
       " {'nombre': 'Pantalón', 'precio': 30, 'cantidad': 30},\n",
       " {'nombre': 'zapatos', 'precio': 50, 'cantidad': 40},\n",
       " {'nombre': 'Camiseta', 'precio': 25, 'cantidad': 70},\n",
       " {'nombre': 'vestidos', 'precio': 35, 'cantidad': 40}]"
      ]
     },
     "execution_count": 55,
     "metadata": {},
     "output_type": "execute_result"
    }
   ],
   "source": [
    "inventario"
   ]
  },
  {
   "cell_type": "code",
   "execution_count": 56,
   "metadata": {},
   "outputs": [],
   "source": [
    "def calcular_valor_inventario(inventario):\n",
    "    valor_total = 0  \n",
    "    \n",
    "    for producto in inventario:\n",
    "        valor_total += producto['precio'] * producto['cantidad']\n",
    "    \n",
    "    print(f\"El valor total del inventario es: €{valor_total:.2f}\")\n",
    "    return valor_total  # Devolvemos el valor total, por si es necesario usarlo después\n"
   ]
  },
  {
   "cell_type": "code",
   "execution_count": 57,
   "metadata": {},
   "outputs": [
    {
     "name": "stdout",
     "output_type": "stream",
     "text": [
      "El valor total del inventario es: €6950.00\n"
     ]
    },
    {
     "data": {
      "text/plain": [
       "6950"
      ]
     },
     "execution_count": 57,
     "metadata": {},
     "output_type": "execute_result"
    }
   ],
   "source": [
    "calcular_valor_inventario(inventario)"
   ]
  },
  {
   "cell_type": "code",
   "execution_count": 58,
   "metadata": {},
   "outputs": [
    {
     "name": "stdout",
     "output_type": "stream",
     "text": [
      "Nombre: Camisa, Precio: €20, Cantidad: 45\n",
      "Nombre: Pantalón, Precio: €30, Cantidad: 30\n",
      "Nombre: zapatos, Precio: €50, Cantidad: 40\n",
      "Nombre: Camiseta, Precio: €25, Cantidad: 70\n",
      "Nombre: vestidos, Precio: €35, Cantidad: 40\n"
     ]
    }
   ],
   "source": [
    "ver_inventario(inventario)"
   ]
  },
  {
   "cell_type": "code",
   "execution_count": 59,
   "metadata": {},
   "outputs": [],
   "source": [
    "\n",
    "clientes = {}\n",
    "ventas_totales = 0.0\n",
    "inventario = [{'nombre': 'Camisa', 'precio': 20, 'cantidad': 45},\n",
    " {'nombre': 'Pantalón', 'precio': 30, 'cantidad': 30},\n",
    " {'nombre': 'zapatos', 'precio': 50, 'cantidad': 40},\n",
    " {'nombre': 'vestidos', 'precio': 35, 'cantidad': 40}]\n",
    "\n",
    "def ver_inventario(inventario):\n",
    "    for producto in inventario:\n",
    "        print(f\"Nombre: {producto['nombre']}, Precio: ${producto['precio']}, Cantidad: {producto['cantidad']}\")\n",
    "\n",
    "\n",
    "def realizar_compra(cliente_nombre, cliente_email):\n",
    "\n",
    "    if cliente_nombre not in clientes:\n",
    "        clientes[cliente_nombre] = {'email': cliente_email, 'compras': []}\n",
    "    \n",
    "    carrito = []\n",
    "    total_compra = 0.0\n",
    "    \n",
    "    \n",
    "    \n",
    "    while True:\n",
    "        ver_inventario(inventario)      \n",
    "        producto_nombre = input(\"Ingresa el nombre del producto que deseas comprar (o 'salir' para finalizar): \")\n",
    "        \n",
    "        if producto_nombre.lower() == 'salir':\n",
    "            break\n",
    "        \n",
    "        for producto in inventario:\n",
    "            if producto['nombre'] == producto_nombre:\n",
    "                cantidad = int(input(f\"Ingrese la cantidad de {producto_nombre} que desea comprar: \"))\n",
    "                if cantidad <= producto['cantidad']:\n",
    "                    total = producto['precio'] * cantidad\n",
    "                    total_compra += total\n",
    "                    producto['cantidad'] -= cantidad\n",
    "                    carrito.append({'nombre': producto_nombre, 'precio': producto['precio'], 'cantidad': cantidad})\n",
    "                    print(f\"Has añadido {cantidad} {producto_nombre}(s) a tu carrito. Total parcial: ${total_compra:.2f}\")\n",
    "                else:\n",
    "                    print(f\"No tenemos suficiente stock de {producto_nombre}. Solo quedan {producto['cantidad']} unidades.\")\n",
    "                break\n",
    "        else:\n",
    "            print(f\"El producto {producto_nombre} no está disponible.\")\n",
    "    \n",
    "    global ventas_totales  # Usamos la variable global para acumular las ventas\n",
    "    ventas_totales += total_compra\n",
    "    clientes[cliente_nombre]['compras'].append(carrito)\n",
    "    print(f\"Total de tu compra: ${total_compra:.2f}\")\n",
    "    print(f\"Gracias por tu compra, {cliente_nombre}!\")\n",
    "\n",
    "\n"
   ]
  },
  {
   "cell_type": "code",
   "execution_count": 60,
   "metadata": {},
   "outputs": [
    {
     "name": "stdout",
     "output_type": "stream",
     "text": [
      "El producto camisa no está disponible.\n",
      "Nombre: Camisa, Precio: $20, Cantidad: 45\n",
      "Nombre: Pantalón, Precio: $30, Cantidad: 30\n",
      "Nombre: zapatos, Precio: $50, Cantidad: 40\n",
      "Nombre: vestidos, Precio: $35, Cantidad: 40\n",
      "Total de tu compra: $0.00\n",
      "Gracias por tu compra, Cliente1!\n"
     ]
    }
   ],
   "source": [
    "realizar_compra('Cliente1', 'cliente1@email.com')"
   ]
  },
  {
   "cell_type": "code",
   "execution_count": null,
   "metadata": {},
   "outputs": [],
   "source": [
    "# Ejemplo de uso\n",
    "agregar_producto('Camisa', 20, 50)\n",
    "agregar_producto('Pantalón', 30, 30)\n",
    "realizar_compra('Cliente1', 'cliente1@email.com')"
   ]
  },
  {
   "cell_type": "code",
   "execution_count": 1,
   "metadata": {},
   "outputs": [],
   "source": [
    "clientes = {}\n",
    "ventas_totales = 0.0\n",
    "inventario = [{'nombre': 'Camisa', 'precio': 20, 'cantidad': 45},\n",
    " {'nombre': 'Pantalón', 'precio': 30, 'cantidad': 30},\n",
    " {'nombre': 'zapatos', 'precio': 50, 'cantidad': 40},\n",
    " {'nombre': 'vestidos', 'precio': 35, 'cantidad': 40}]\n",
    "\n",
    "def ver_inventario(inventario):\n",
    "    for producto in inventario:\n",
    "        print(f\"Nombre: {producto['nombre']}, Precio: ${producto['precio']}, Cantidad: {producto['cantidad']}\")\n",
    "\n",
    "\n",
    "def realizar_compra(cliente_nombre, cliente_email):\n",
    "\n",
    "    if cliente_nombre not in clientes:\n",
    "        clientes[cliente_nombre] = {'email': cliente_email, 'compras': []}\n",
    "    \n",
    "    carrito = []\n",
    "    total_compra = 0.0\n",
    "    \n",
    "    \n",
    "    # ver_inventario(inventario)      \n",
    "    \n",
    "    while True:\n",
    "        producto_nombre = input(\"Ingresa el nombre del producto que deseas comprar (o 'salir' para finalizar): \")\n",
    "        \n",
    "        if producto_nombre.lower() == 'salir':\n",
    "            break\n",
    "        \n",
    "        for producto in inventario:\n",
    "            if producto['nombre'].lower() == producto_nombre.lower():\n",
    "                try:\n",
    "                    cantidad = int(input(f\"Ingrese la cantidad de {producto_nombre} que desea comprar: \"))\n",
    "                    if cantidad <= producto['cantidad']:\n",
    "                        total = producto['precio'] * cantidad\n",
    "                        total_compra += total\n",
    "                        producto['cantidad'] -= cantidad\n",
    "                        carrito.append({'nombre': producto_nombre, 'precio': producto['precio'], 'cantidad': cantidad})\n",
    "                        print(f\"Has añadido {cantidad} {producto_nombre}(s) a tu carrito. Total parcial: ${total_compra:.2f}\")\n",
    "                    else:\n",
    "                        print(f\"No tenemos suficiente stock de {producto_nombre}. Solo quedan {producto['cantidad']} unidades.\")\n",
    "                except ValueError:\n",
    "                    print(\"Por favor, ingresa una cantidad válida.\")\n",
    "                break\n",
    "        else:\n",
    "            print(f\"El producto {producto_nombre} no está disponible.\")\n",
    "    \n",
    "    global ventas_totales  # Usamos la variable global para acumular las ventas\n",
    "    ventas_totales += total_compra\n",
    "    clientes[cliente_nombre]['compras'].append(carrito)\n",
    "    print(f\"Total de tu compra: ${total_compra:.2f}\")\n",
    "    print(f\"Gracias por tu compra, {cliente_nombre}!\")\n"
   ]
  },
  {
   "cell_type": "code",
   "execution_count": 2,
   "metadata": {},
   "outputs": [
    {
     "name": "stdout",
     "output_type": "stream",
     "text": [
      "Has añadido 3 camisa(s) a tu carrito. Total parcial: $60.00\n",
      "El producto pantalon no está disponible.\n",
      "Has añadido 2 pantalón(s) a tu carrito. Total parcial: $120.00\n",
      "Total de tu compra: $120.00\n",
      "Gracias por tu compra, Cliente1!\n"
     ]
    }
   ],
   "source": [
    "realizar_compra('Cliente1', 'cliente1@email.com')"
   ]
  }
 ],
 "metadata": {
  "kernelspec": {
   "display_name": "rosana_conda",
   "language": "python",
   "name": "python3"
  },
  "language_info": {
   "codemirror_mode": {
    "name": "ipython",
    "version": 3
   },
   "file_extension": ".py",
   "mimetype": "text/x-python",
   "name": "python",
   "nbconvert_exporter": "python",
   "pygments_lexer": "ipython3",
   "version": "3.12.6"
  }
 },
 "nbformat": 4,
 "nbformat_minor": 2
}
